{
 "cells": [
  {
   "cell_type": "code",
   "execution_count": null,
   "metadata": {
    "execution": {
     "iopub.execute_input": "2021-12-15T21:59:25.520148Z",
     "iopub.status.busy": "2021-12-15T21:59:25.519754Z",
     "iopub.status.idle": "2021-12-15T21:59:25.527555Z",
     "shell.execute_reply": "2021-12-15T21:59:25.526593Z",
     "shell.execute_reply.started": "2021-12-15T21:59:25.520118Z"
    }
   },
   "outputs": [],
   "source": [
    "# This Python 3 environment comes with many helpful analytics libraries installed\n",
    "# It is defined by the kaggle/python Docker image: https://github.com/kaggle/docker-python\n",
    "# For example, here's several helpful packages to load\n",
    "\n",
    "import numpy as np # linear algebra\n",
    "import pandas as pd # data processing, CSV file I/O (e.g. pd.read_csv)\n",
    "\n",
    "# Input data files are available in the read-only \"../input/\" directory\n",
    "# For example, running this (by clicking run or pressing Shift+Enter) will list all files under the input directory\n",
    "\n",
    "import os\n",
    "for dirname, _, filenames in os.walk('/kaggle/input'):\n",
    "    for filename in filenames:\n",
    "        print(os.path.join(dirname, filename))\n",
    "\n",
    "# You can write up to 20GB to the current directory (/kaggle/working/) that gets preserved as output when you create a version using \"Save & Run All\" \n",
    "# You can also write temporary files to /kaggle/temp/, but they won't be saved outside of the current session"
   ]
  },
  {
   "cell_type": "code",
   "execution_count": null,
   "metadata": {
    "execution": {
     "iopub.execute_input": "2021-12-15T21:59:25.533996Z",
     "iopub.status.busy": "2021-12-15T21:59:25.533633Z",
     "iopub.status.idle": "2021-12-15T21:59:25.540065Z",
     "shell.execute_reply": "2021-12-15T21:59:25.539413Z",
     "shell.execute_reply.started": "2021-12-15T21:59:25.533958Z"
    }
   },
   "outputs": [],
   "source": [
    "import numpy as np\n",
    "import matplotlib.pyplot as plt\n",
    "import pandas as pd\n",
    "import seaborn as sns\n",
    "%matplotlib inline\n",
    "from sklearn.metrics import accuracy_score"
   ]
  },
  {
   "cell_type": "code",
   "execution_count": null,
   "metadata": {
    "execution": {
     "iopub.execute_input": "2021-12-15T21:59:25.541555Z",
     "iopub.status.busy": "2021-12-15T21:59:25.541339Z",
     "iopub.status.idle": "2021-12-15T21:59:25.550128Z",
     "shell.execute_reply": "2021-12-15T21:59:25.549573Z",
     "shell.execute_reply.started": "2021-12-15T21:59:25.541528Z"
    }
   },
   "outputs": [],
   "source": [
    "# These first few steps will involve importing, checking and cleaning the data if necessary"
   ]
  },
  {
   "cell_type": "code",
   "execution_count": null,
   "metadata": {
    "execution": {
     "iopub.execute_input": "2021-12-15T21:59:25.55193Z",
     "iopub.status.busy": "2021-12-15T21:59:25.551473Z",
     "iopub.status.idle": "2021-12-15T21:59:25.592897Z",
     "shell.execute_reply": "2021-12-15T21:59:25.592341Z",
     "shell.execute_reply.started": "2021-12-15T21:59:25.551891Z"
    }
   },
   "outputs": [],
   "source": [
    "testdata = pd.read_csv('/kaggle/input/job-promotion-analysis-dataset/test_data.csv')\n",
    "traindata = pd.read_csv('/kaggle/input/job-promotion-analysis-dataset/train_data.csv')\n",
    "\n",
    "traindata.head()"
   ]
  },
  {
   "cell_type": "code",
   "execution_count": null,
   "metadata": {
    "execution": {
     "iopub.execute_input": "2021-12-15T21:59:25.594673Z",
     "iopub.status.busy": "2021-12-15T21:59:25.59423Z",
     "iopub.status.idle": "2021-12-15T21:59:25.63565Z",
     "shell.execute_reply": "2021-12-15T21:59:25.634651Z",
     "shell.execute_reply.started": "2021-12-15T21:59:25.594624Z"
    }
   },
   "outputs": [],
   "source": [
    "traindata.describe()"
   ]
  },
  {
   "cell_type": "code",
   "execution_count": null,
   "metadata": {
    "execution": {
     "iopub.execute_input": "2021-12-15T21:59:25.637384Z",
     "iopub.status.busy": "2021-12-15T21:59:25.636991Z",
     "iopub.status.idle": "2021-12-15T21:59:25.649695Z",
     "shell.execute_reply": "2021-12-15T21:59:25.648849Z",
     "shell.execute_reply.started": "2021-12-15T21:59:25.637343Z"
    }
   },
   "outputs": [],
   "source": [
    "traindata.isnull().sum()"
   ]
  },
  {
   "cell_type": "code",
   "execution_count": null,
   "metadata": {
    "execution": {
     "iopub.execute_input": "2021-12-15T21:59:25.651133Z",
     "iopub.status.busy": "2021-12-15T21:59:25.650888Z",
     "iopub.status.idle": "2021-12-15T21:59:25.657122Z",
     "shell.execute_reply": "2021-12-15T21:59:25.656591Z",
     "shell.execute_reply.started": "2021-12-15T21:59:25.651097Z"
    }
   },
   "outputs": [],
   "source": [
    "traindata.columns"
   ]
  },
  {
   "cell_type": "code",
   "execution_count": null,
   "metadata": {
    "execution": {
     "iopub.execute_input": "2021-12-15T21:59:25.658411Z",
     "iopub.status.busy": "2021-12-15T21:59:25.657922Z",
     "iopub.status.idle": "2021-12-15T21:59:25.668076Z",
     "shell.execute_reply": "2021-12-15T21:59:25.667345Z",
     "shell.execute_reply.started": "2021-12-15T21:59:25.658382Z"
    }
   },
   "outputs": [],
   "source": [
    "testdata.shape"
   ]
  },
  {
   "cell_type": "markdown",
   "metadata": {},
   "source": [
    "# Data Description and Exploratory Visualisations"
   ]
  },
  {
   "cell_type": "code",
   "execution_count": null,
   "metadata": {
    "execution": {
     "iopub.execute_input": "2021-12-15T21:59:25.669394Z",
     "iopub.status.busy": "2021-12-15T21:59:25.669157Z",
     "iopub.status.idle": "2021-12-15T21:59:25.687991Z",
     "shell.execute_reply": "2021-12-15T21:59:25.687299Z",
     "shell.execute_reply.started": "2021-12-15T21:59:25.669367Z"
    }
   },
   "outputs": [],
   "source": [
    "traindata.head()"
   ]
  },
  {
   "cell_type": "code",
   "execution_count": null,
   "metadata": {
    "execution": {
     "iopub.execute_input": "2021-12-15T21:59:25.690365Z",
     "iopub.status.busy": "2021-12-15T21:59:25.690114Z",
     "iopub.status.idle": "2021-12-15T21:59:25.698079Z",
     "shell.execute_reply": "2021-12-15T21:59:25.697143Z",
     "shell.execute_reply.started": "2021-12-15T21:59:25.690337Z"
    }
   },
   "outputs": [],
   "source": [
    "testdata.isnull().sum()"
   ]
  },
  {
   "cell_type": "code",
   "execution_count": null,
   "metadata": {
    "execution": {
     "iopub.execute_input": "2021-12-15T21:59:25.699506Z",
     "iopub.status.busy": "2021-12-15T21:59:25.699196Z",
     "iopub.status.idle": "2021-12-15T21:59:25.737202Z",
     "shell.execute_reply": "2021-12-15T21:59:25.736441Z",
     "shell.execute_reply.started": "2021-12-15T21:59:25.699476Z"
    }
   },
   "outputs": [],
   "source": [
    "traindata.describe()"
   ]
  },
  {
   "cell_type": "code",
   "execution_count": null,
   "metadata": {
    "execution": {
     "iopub.execute_input": "2021-12-15T21:59:25.738748Z",
     "iopub.status.busy": "2021-12-15T21:59:25.738544Z",
     "iopub.status.idle": "2021-12-15T21:59:27.125477Z",
     "shell.execute_reply": "2021-12-15T21:59:27.12487Z",
     "shell.execute_reply.started": "2021-12-15T21:59:25.738723Z"
    }
   },
   "outputs": [],
   "source": [
    "traindata.hist(figsize=(20,20))\n",
    "plt.show()"
   ]
  },
  {
   "cell_type": "code",
   "execution_count": null,
   "metadata": {
    "execution": {
     "iopub.execute_input": "2021-12-15T21:59:27.126629Z",
     "iopub.status.busy": "2021-12-15T21:59:27.126322Z",
     "iopub.status.idle": "2021-12-15T21:59:27.131847Z",
     "shell.execute_reply": "2021-12-15T21:59:27.131135Z",
     "shell.execute_reply.started": "2021-12-15T21:59:27.126603Z"
    }
   },
   "outputs": [],
   "source": [
    "# Here we will drop the surname dataset as it is deemed redundant\n",
    "traindata.drop('Surname', axis = 1 , inplace = True)"
   ]
  },
  {
   "cell_type": "markdown",
   "metadata": {},
   "source": [
    "# Encoding The Non-Numerics"
   ]
  },
  {
   "cell_type": "code",
   "execution_count": null,
   "metadata": {
    "execution": {
     "iopub.execute_input": "2021-12-15T21:59:27.133263Z",
     "iopub.status.busy": "2021-12-15T21:59:27.133006Z",
     "iopub.status.idle": "2021-12-15T21:59:27.140994Z",
     "shell.execute_reply": "2021-12-15T21:59:27.140232Z",
     "shell.execute_reply.started": "2021-12-15T21:59:27.133235Z"
    }
   },
   "outputs": [],
   "source": [
    "from sklearn import preprocessing\n",
    "le = preprocessing.LabelEncoder()\n",
    "# We import the sklearn library to gain certain processing functionality"
   ]
  },
  {
   "cell_type": "code",
   "execution_count": null,
   "metadata": {
    "execution": {
     "iopub.execute_input": "2021-12-15T21:59:27.142316Z",
     "iopub.status.busy": "2021-12-15T21:59:27.14199Z",
     "iopub.status.idle": "2021-12-15T21:59:27.152688Z",
     "shell.execute_reply": "2021-12-15T21:59:27.152067Z",
     "shell.execute_reply.started": "2021-12-15T21:59:27.142268Z"
    }
   },
   "outputs": [],
   "source": [
    "traindata.columns"
   ]
  },
  {
   "cell_type": "code",
   "execution_count": null,
   "metadata": {
    "execution": {
     "iopub.execute_input": "2021-12-15T21:59:27.153812Z",
     "iopub.status.busy": "2021-12-15T21:59:27.15355Z",
     "iopub.status.idle": "2021-12-15T21:59:27.173279Z",
     "shell.execute_reply": "2021-12-15T21:59:27.172552Z",
     "shell.execute_reply.started": "2021-12-15T21:59:27.153774Z"
    }
   },
   "outputs": [],
   "source": [
    "traindata.head()"
   ]
  },
  {
   "cell_type": "code",
   "execution_count": null,
   "metadata": {
    "execution": {
     "iopub.execute_input": "2021-12-15T21:59:27.17466Z",
     "iopub.status.busy": "2021-12-15T21:59:27.174403Z",
     "iopub.status.idle": "2021-12-15T21:59:27.18542Z",
     "shell.execute_reply": "2021-12-15T21:59:27.184825Z",
     "shell.execute_reply.started": "2021-12-15T21:59:27.174632Z"
    }
   },
   "outputs": [],
   "source": [
    "#Convert string labels to numbers\n",
    "traindata['Geography']=le.fit_transform(traindata['Geography'])\n",
    "traindata['Gender']=le.fit_transform(traindata['Gender'])\n",
    "\n",
    "testdata['Geography']=le.fit_transform(testdata['Geography'])\n",
    "testdata['Gender']=le.fit_transform(testdata['Gender'])"
   ]
  },
  {
   "cell_type": "code",
   "execution_count": null,
   "metadata": {
    "execution": {
     "iopub.execute_input": "2021-12-15T21:59:27.187316Z",
     "iopub.status.busy": "2021-12-15T21:59:27.18644Z",
     "iopub.status.idle": "2021-12-15T21:59:27.204955Z",
     "shell.execute_reply": "2021-12-15T21:59:27.204223Z",
     "shell.execute_reply.started": "2021-12-15T21:59:27.187246Z"
    }
   },
   "outputs": [],
   "source": [
    "traindata.head()"
   ]
  },
  {
   "cell_type": "markdown",
   "metadata": {},
   "source": [
    "# Correlation"
   ]
  },
  {
   "cell_type": "code",
   "execution_count": null,
   "metadata": {
    "execution": {
     "iopub.execute_input": "2021-12-15T21:59:27.207422Z",
     "iopub.status.busy": "2021-12-15T21:59:27.205798Z",
     "iopub.status.idle": "2021-12-15T21:59:27.234743Z",
     "shell.execute_reply": "2021-12-15T21:59:27.233961Z",
     "shell.execute_reply.started": "2021-12-15T21:59:27.207386Z"
    }
   },
   "outputs": [],
   "source": [
    "traindata.corr()"
   ]
  },
  {
   "cell_type": "code",
   "execution_count": null,
   "metadata": {
    "execution": {
     "iopub.execute_input": "2021-12-15T21:59:27.236087Z",
     "iopub.status.busy": "2021-12-15T21:59:27.235799Z",
     "iopub.status.idle": "2021-12-15T21:59:28.180079Z",
     "shell.execute_reply": "2021-12-15T21:59:28.179274Z",
     "shell.execute_reply.started": "2021-12-15T21:59:27.236057Z"
    }
   },
   "outputs": [],
   "source": [
    "sns.heatmap(traindata.corr(), annot = True)\n",
    "plt.show()\n",
    "#This is not very clear so we shall use another map"
   ]
  },
  {
   "cell_type": "code",
   "execution_count": null,
   "metadata": {
    "execution": {
     "iopub.execute_input": "2021-12-15T21:59:28.18133Z",
     "iopub.status.busy": "2021-12-15T21:59:28.181093Z",
     "iopub.status.idle": "2021-12-15T21:59:29.035143Z",
     "shell.execute_reply": "2021-12-15T21:59:29.034225Z",
     "shell.execute_reply.started": "2021-12-15T21:59:28.181273Z"
    }
   },
   "outputs": [],
   "source": [
    "colormap = plt.cm.RdBu\n",
    "plt.figure(figsize=(14,12))\n",
    "plt.title('Pearson Correlation of Features', y=1.05, size=15)\n",
    "sns.heatmap(traindata.corr(),linewidths=0.1,vmax=1.0,\n",
    " square=True, cmap=colormap, linecolor='white', annot=True)\n",
    "plt.show()\n",
    "#We have added another map"
   ]
  },
  {
   "cell_type": "code",
   "execution_count": null,
   "metadata": {
    "execution": {
     "iopub.execute_input": "2021-12-15T21:59:29.036525Z",
     "iopub.status.busy": "2021-12-15T21:59:29.036281Z",
     "iopub.status.idle": "2021-12-15T21:59:29.039973Z",
     "shell.execute_reply": "2021-12-15T21:59:29.039117Z",
     "shell.execute_reply.started": "2021-12-15T21:59:29.036497Z"
    }
   },
   "outputs": [],
   "source": [
    "# From this we can infer that most relationships are weak, \n",
    "# However a strong correlation  between the age of the customer and exited.\n",
    "# To be more percise it would be better to calculate the correlations"
   ]
  },
  {
   "cell_type": "code",
   "execution_count": null,
   "metadata": {
    "execution": {
     "iopub.execute_input": "2021-12-15T21:59:29.041395Z",
     "iopub.status.busy": "2021-12-15T21:59:29.041169Z",
     "iopub.status.idle": "2021-12-15T21:59:29.662362Z",
     "shell.execute_reply": "2021-12-15T21:59:29.661624Z",
     "shell.execute_reply.started": "2021-12-15T21:59:29.041368Z"
    }
   },
   "outputs": [],
   "source": [
    "# Calculating Correlations\n",
    "corr = traindata.corr()\n",
    "mask = np.zeros_like(corr)\n",
    "mask[np.triu_indices_from(mask)] = True\n",
    "# Heatmap\n",
    "plt.figure(figsize=(15, 10))\n",
    "sns.heatmap(corr,\n",
    " vmax=.5,\n",
    " mask=mask,\n",
    " annot=True, fmt='.2f',\n",
    " linewidths=.2, cmap=\"YlGnBu\")\n",
    "plt.show()"
   ]
  },
  {
   "cell_type": "code",
   "execution_count": null,
   "metadata": {
    "execution": {
     "iopub.execute_input": "2021-12-15T21:59:29.665795Z",
     "iopub.status.busy": "2021-12-15T21:59:29.665565Z",
     "iopub.status.idle": "2021-12-15T21:59:29.669133Z",
     "shell.execute_reply": "2021-12-15T21:59:29.668304Z",
     "shell.execute_reply.started": "2021-12-15T21:59:29.665767Z"
    }
   },
   "outputs": [],
   "source": [
    "# from this let us infer,. the age to exited correlation is still the strongest.\n",
    "# however it is also clear that the balance of consumers accounts has a notable relation with exited.\n",
    "#Finally the weakest relations are thos of the gender. It can be infered that gender does not really play a role in those that exit."
   ]
  },
  {
   "cell_type": "code",
   "execution_count": null,
   "metadata": {
    "execution": {
     "iopub.execute_input": "2021-12-15T21:59:29.671144Z",
     "iopub.status.busy": "2021-12-15T21:59:29.670923Z",
     "iopub.status.idle": "2021-12-15T21:59:29.689515Z",
     "shell.execute_reply": "2021-12-15T21:59:29.688469Z",
     "shell.execute_reply.started": "2021-12-15T21:59:29.671116Z"
    }
   },
   "outputs": [],
   "source": [
    "# Here we finda the correlations with the target data and sort\n",
    "correlations = traindata.corr()['Exited'].sort_values()\n",
    "print('Most Positive Correlations: \\n', correlations.tail(8))\n",
    "print('\\nMost Negative Correlations: \\n', correlations.head(8))"
   ]
  },
  {
   "cell_type": "code",
   "execution_count": null,
   "metadata": {
    "execution": {
     "iopub.execute_input": "2021-12-15T21:59:29.690698Z",
     "iopub.status.busy": "2021-12-15T21:59:29.690502Z",
     "iopub.status.idle": "2021-12-15T21:59:29.69446Z",
     "shell.execute_reply": "2021-12-15T21:59:29.69363Z",
     "shell.execute_reply.started": "2021-12-15T21:59:29.690673Z"
    }
   },
   "outputs": [],
   "source": [
    "# Estimated Salary, Geography, Balance, Age, Exited, all have the strongest positive relations to exited\n",
    "# The most negative correlations to exited is that of IsActiveMember, Gender, Number of Products, Tenure and CreditScore."
   ]
  },
  {
   "cell_type": "markdown",
   "metadata": {},
   "source": [
    "# Analysis"
   ]
  },
  {
   "cell_type": "code",
   "execution_count": null,
   "metadata": {
    "execution": {
     "iopub.execute_input": "2021-12-15T21:59:29.696436Z",
     "iopub.status.busy": "2021-12-15T21:59:29.695623Z",
     "iopub.status.idle": "2021-12-15T21:59:29.706803Z",
     "shell.execute_reply": "2021-12-15T21:59:29.706207Z",
     "shell.execute_reply.started": "2021-12-15T21:59:29.696394Z"
    }
   },
   "outputs": [],
   "source": [
    "traindata.columns"
   ]
  },
  {
   "cell_type": "markdown",
   "metadata": {},
   "source": [
    "# Additional Column (optional)"
   ]
  },
  {
   "cell_type": "code",
   "execution_count": null,
   "metadata": {
    "execution": {
     "iopub.execute_input": "2021-12-15T21:59:29.708713Z",
     "iopub.status.busy": "2021-12-15T21:59:29.707942Z",
     "iopub.status.idle": "2021-12-15T21:59:29.714699Z",
     "shell.execute_reply": "2021-12-15T21:59:29.714015Z",
     "shell.execute_reply.started": "2021-12-15T21:59:29.70867Z"
    }
   },
   "outputs": [],
   "source": [
    "# Here I added an additional column called amountspent that i was able to infere from the given data, it may not be \n",
    "# reflected in the final output and the column may be dropped"
   ]
  },
  {
   "cell_type": "code",
   "execution_count": null,
   "metadata": {
    "execution": {
     "iopub.execute_input": "2021-12-15T21:59:29.71671Z",
     "iopub.status.busy": "2021-12-15T21:59:29.716178Z",
     "iopub.status.idle": "2021-12-15T21:59:29.73886Z",
     "shell.execute_reply": "2021-12-15T21:59:29.738252Z",
     "shell.execute_reply.started": "2021-12-15T21:59:29.716666Z"
    }
   },
   "outputs": [],
   "source": [
    "traindata.head()"
   ]
  },
  {
   "cell_type": "markdown",
   "metadata": {},
   "source": [
    "## Trying to Discover how much is spent in a from the salary with the given balance."
   ]
  },
  {
   "cell_type": "code",
   "execution_count": null,
   "metadata": {
    "execution": {
     "iopub.execute_input": "2021-12-15T21:59:29.740922Z",
     "iopub.status.busy": "2021-12-15T21:59:29.74015Z",
     "iopub.status.idle": "2021-12-15T21:59:29.751668Z",
     "shell.execute_reply": "2021-12-15T21:59:29.75107Z",
     "shell.execute_reply.started": "2021-12-15T21:59:29.740882Z"
    }
   },
   "outputs": [],
   "source": [
    "traindata['AmountSpent']= traindata['EstimatedSalary'].astype('int') - traindata['Balance'].astype('int')\n",
    "testdata['AmountSpent']= testdata['EstimatedSalary'].astype('int') - testdata['Balance'].astype('int')"
   ]
  },
  {
   "cell_type": "code",
   "execution_count": null,
   "metadata": {
    "execution": {
     "iopub.execute_input": "2021-12-15T21:59:29.753505Z",
     "iopub.status.busy": "2021-12-15T21:59:29.7531Z",
     "iopub.status.idle": "2021-12-15T21:59:29.759856Z",
     "shell.execute_reply": "2021-12-15T21:59:29.759272Z",
     "shell.execute_reply.started": "2021-12-15T21:59:29.753472Z"
    }
   },
   "outputs": [],
   "source": [
    "traindata.drop('CustomerId', axis = 1 , inplace = True)\n",
    "#traindata.drop('Gender', axis = 1 , inplace = True)\n",
    "# Dropping customer ID as it is irrelevant"
   ]
  },
  {
   "cell_type": "code",
   "execution_count": null,
   "metadata": {
    "execution": {
     "iopub.execute_input": "2021-12-15T21:59:29.763469Z",
     "iopub.status.busy": "2021-12-15T21:59:29.760904Z",
     "iopub.status.idle": "2021-12-15T21:59:29.771699Z",
     "shell.execute_reply": "2021-12-15T21:59:29.770861Z",
     "shell.execute_reply.started": "2021-12-15T21:59:29.763428Z"
    }
   },
   "outputs": [],
   "source": [
    "features = traindata[['CreditScore', 'Geography', 'Age', 'Tenure', 'Balance',\n",
    "       'NumOfProducts', 'HasCrCard', 'IsActiveMember', 'EstimatedSalary', \n",
    "        ]]\n",
    "target = traindata['Exited']\n"
   ]
  },
  {
   "cell_type": "code",
   "execution_count": null,
   "metadata": {
    "execution": {
     "iopub.execute_input": "2021-12-15T21:59:29.773435Z",
     "iopub.status.busy": "2021-12-15T21:59:29.772875Z",
     "iopub.status.idle": "2021-12-15T21:59:30.578971Z",
     "shell.execute_reply": "2021-12-15T21:59:30.578148Z",
     "shell.execute_reply.started": "2021-12-15T21:59:29.773406Z"
    }
   },
   "outputs": [],
   "source": [
    "from sklearn.ensemble import ExtraTreesClassifier\n",
    "model = ExtraTreesClassifier()\n",
    "model.fit(features,target)\n",
    "print(model.feature_importances_)\n",
    "feat_importance = pd.Series(model.feature_importances_,index=features.columns)\n",
    "feat_importance.nlargest(10).plot(kind = 'barh')\n",
    "plt.show()"
   ]
  },
  {
   "cell_type": "code",
   "execution_count": null,
   "metadata": {
    "execution": {
     "iopub.execute_input": "2021-12-15T21:59:30.580822Z",
     "iopub.status.busy": "2021-12-15T21:59:30.580395Z",
     "iopub.status.idle": "2021-12-15T21:59:30.588364Z",
     "shell.execute_reply": "2021-12-15T21:59:30.587665Z",
     "shell.execute_reply.started": "2021-12-15T21:59:30.580786Z"
    }
   },
   "outputs": [],
   "source": [
    "target = traindata['Exited'].values\n",
    "test = testdata[['Age', 'Balance','EstimatedSalary','Geography', 'Tenure', 'NumOfProducts', 'CreditScore', 'IsActiveMember']].values\n",
    "features = traindata[['Age', 'Balance','EstimatedSalary','Geography','Tenure', 'NumOfProducts', \"CreditScore\", 'IsActiveMember']].values"
   ]
  },
  {
   "cell_type": "code",
   "execution_count": null,
   "metadata": {
    "execution": {
     "iopub.execute_input": "2021-12-15T21:59:30.589919Z",
     "iopub.status.busy": "2021-12-15T21:59:30.589587Z",
     "iopub.status.idle": "2021-12-15T21:59:30.597757Z",
     "shell.execute_reply": "2021-12-15T21:59:30.596927Z",
     "shell.execute_reply.started": "2021-12-15T21:59:30.589884Z"
    }
   },
   "outputs": [],
   "source": [
    "# Splitting the dataset"
   ]
  },
  {
   "cell_type": "code",
   "execution_count": null,
   "metadata": {
    "execution": {
     "iopub.execute_input": "2021-12-15T21:59:30.598898Z",
     "iopub.status.busy": "2021-12-15T21:59:30.598599Z",
     "iopub.status.idle": "2021-12-15T21:59:30.607685Z",
     "shell.execute_reply": "2021-12-15T21:59:30.607129Z",
     "shell.execute_reply.started": "2021-12-15T21:59:30.598867Z"
    }
   },
   "outputs": [],
   "source": [
    "from sklearn.model_selection import train_test_split"
   ]
  },
  {
   "cell_type": "code",
   "execution_count": null,
   "metadata": {
    "execution": {
     "iopub.execute_input": "2021-12-15T21:59:30.609129Z",
     "iopub.status.busy": "2021-12-15T21:59:30.608587Z",
     "iopub.status.idle": "2021-12-15T21:59:30.618755Z",
     "shell.execute_reply": "2021-12-15T21:59:30.617992Z",
     "shell.execute_reply.started": "2021-12-15T21:59:30.609097Z"
    }
   },
   "outputs": [],
   "source": [
    "#features_train, features_test, target_train, target_test = train_test_split(features,target, test_size = 0.1, random_state = 0)"
   ]
  },
  {
   "cell_type": "code",
   "execution_count": null,
   "metadata": {
    "execution": {
     "iopub.execute_input": "2021-12-15T21:59:30.619926Z",
     "iopub.status.busy": "2021-12-15T21:59:30.619716Z",
     "iopub.status.idle": "2021-12-15T21:59:30.629983Z",
     "shell.execute_reply": "2021-12-15T21:59:30.629069Z",
     "shell.execute_reply.started": "2021-12-15T21:59:30.6199Z"
    }
   },
   "outputs": [],
   "source": [
    "#print(features_train.shape, target_train.shape, features_test.shape, target_test.shape )"
   ]
  },
  {
   "cell_type": "code",
   "execution_count": null,
   "metadata": {
    "execution": {
     "iopub.execute_input": "2021-12-15T21:59:30.631646Z",
     "iopub.status.busy": "2021-12-15T21:59:30.631077Z",
     "iopub.status.idle": "2021-12-15T21:59:30.641622Z",
     "shell.execute_reply": "2021-12-15T21:59:30.640966Z",
     "shell.execute_reply.started": "2021-12-15T21:59:30.631602Z"
    }
   },
   "outputs": [],
   "source": [
    "target_train"
   ]
  },
  {
   "cell_type": "markdown",
   "metadata": {},
   "source": [
    "# Random Forest Method"
   ]
  },
  {
   "cell_type": "code",
   "execution_count": null,
   "metadata": {
    "execution": {
     "iopub.execute_input": "2021-12-15T21:59:30.643422Z",
     "iopub.status.busy": "2021-12-15T21:59:30.642776Z",
     "iopub.status.idle": "2021-12-15T21:59:32.178981Z",
     "shell.execute_reply": "2021-12-15T21:59:32.178072Z",
     "shell.execute_reply.started": "2021-12-15T21:59:30.643388Z"
    }
   },
   "outputs": [],
   "source": [
    "from sklearn.ensemble import RandomForestClassifier\n",
    "clasifier = RandomForestClassifier(n_estimators=200, )\n",
    "model = clasifier.fit(features_train, target_train)"
   ]
  },
  {
   "cell_type": "code",
   "execution_count": null,
   "metadata": {
    "execution": {
     "iopub.execute_input": "2021-12-15T21:59:32.180368Z",
     "iopub.status.busy": "2021-12-15T21:59:32.180124Z",
     "iopub.status.idle": "2021-12-15T21:59:32.305836Z",
     "shell.execute_reply": "2021-12-15T21:59:32.304953Z",
     "shell.execute_reply.started": "2021-12-15T21:59:32.180338Z"
    }
   },
   "outputs": [],
   "source": [
    "target_pred = model.predict(test)\n",
    "target_pred\n"
   ]
  },
  {
   "cell_type": "markdown",
   "metadata": {},
   "source": [
    "# Gradient Boosting Algorithm"
   ]
  },
  {
   "cell_type": "code",
   "execution_count": null,
   "metadata": {
    "execution": {
     "iopub.status.busy": "2021-12-15T21:59:32.328337Z",
     "iopub.status.idle": "2021-12-15T21:59:32.329204Z",
     "shell.execute_reply": "2021-12-15T21:59:32.329017Z",
     "shell.execute_reply.started": "2021-12-15T21:59:32.328994Z"
    }
   },
   "outputs": [],
   "source": [
    "# Gradient Boosting granted me the greatest accuracy of all the techniques that were used"
   ]
  },
  {
   "cell_type": "code",
   "execution_count": null,
   "metadata": {
    "execution": {
     "iopub.execute_input": "2021-12-15T21:59:52.746197Z",
     "iopub.status.busy": "2021-12-15T21:59:52.745388Z",
     "iopub.status.idle": "2021-12-15T21:59:53.627682Z",
     "shell.execute_reply": "2021-12-15T21:59:53.626945Z",
     "shell.execute_reply.started": "2021-12-15T21:59:52.746158Z"
    }
   },
   "outputs": [],
   "source": [
    "from sklearn.ensemble import GradientBoostingClassifier\n",
    "clasifier = GradientBoostingClassifier()\n",
    "model = clasifier.fit(features_train, target_train)"
   ]
  },
  {
   "cell_type": "code",
   "execution_count": null,
   "metadata": {
    "execution": {
     "iopub.execute_input": "2021-12-15T21:59:53.629342Z",
     "iopub.status.busy": "2021-12-15T21:59:53.62896Z",
     "iopub.status.idle": "2021-12-15T21:59:53.639904Z",
     "shell.execute_reply": "2021-12-15T21:59:53.639223Z",
     "shell.execute_reply.started": "2021-12-15T21:59:53.629312Z"
    }
   },
   "outputs": [],
   "source": [
    "target_pred = model.predict(test)"
   ]
  },
  {
   "cell_type": "markdown",
   "metadata": {},
   "source": [
    "# Ada Boost"
   ]
  },
  {
   "cell_type": "code",
   "execution_count": null,
   "metadata": {
    "execution": {
     "iopub.status.busy": "2021-12-15T21:59:32.334028Z",
     "iopub.status.idle": "2021-12-15T21:59:32.334325Z",
     "shell.execute_reply": "2021-12-15T21:59:32.334174Z",
     "shell.execute_reply.started": "2021-12-15T21:59:32.334159Z"
    }
   },
   "outputs": [],
   "source": [
    "from sklearn.ensemble import AdaBoostClassifier\n",
    "ad = AdaBoostClassifier()"
   ]
  },
  {
   "cell_type": "code",
   "execution_count": null,
   "metadata": {
    "execution": {
     "iopub.status.busy": "2021-12-15T21:59:32.335154Z",
     "iopub.status.idle": "2021-12-15T21:59:32.335452Z",
     "shell.execute_reply": "2021-12-15T21:59:32.335324Z",
     "shell.execute_reply.started": "2021-12-15T21:59:32.335309Z"
    }
   },
   "outputs": [],
   "source": [
    "target_pred = ad.fit(features_train, target_train).predict(test)"
   ]
  },
  {
   "cell_type": "code",
   "execution_count": null,
   "metadata": {
    "execution": {
     "iopub.status.busy": "2021-12-15T21:59:32.336153Z",
     "iopub.status.idle": "2021-12-15T21:59:32.336454Z",
     "shell.execute_reply": "2021-12-15T21:59:32.336313Z",
     "shell.execute_reply.started": "2021-12-15T21:59:32.336274Z"
    }
   },
   "outputs": [],
   "source": [
    "accuracy_score(ytest, pred)"
   ]
  },
  {
   "cell_type": "markdown",
   "metadata": {},
   "source": [
    "# XG Boost"
   ]
  },
  {
   "cell_type": "code",
   "execution_count": null,
   "metadata": {
    "execution": {
     "iopub.execute_input": "2021-12-15T22:00:35.792776Z",
     "iopub.status.busy": "2021-12-15T22:00:35.792362Z",
     "iopub.status.idle": "2021-12-15T22:00:36.390127Z",
     "shell.execute_reply": "2021-12-15T22:00:36.389478Z",
     "shell.execute_reply.started": "2021-12-15T22:00:35.792746Z"
    }
   },
   "outputs": [],
   "source": [
    "import xgboost as xgb\n",
    "from xgboost.sklearn import XGBClassifier\n",
    "from xgboost.sklearn import XGBRegressor\n",
    "\n",
    "classifiers = XGBClassifier(learning_rate = 0.7, max_depth = 6, alpha = 10, n_estimators = 100)\n",
    "classifiers.fit(features_train, target_train)\n",
    "target_pred = classifiers.predict(test)"
   ]
  },
  {
   "cell_type": "markdown",
   "metadata": {},
   "source": [
    "# Exporting"
   ]
  },
  {
   "cell_type": "code",
   "execution_count": null,
   "metadata": {
    "execution": {
     "iopub.execute_input": "2021-12-15T22:00:40.376979Z",
     "iopub.status.busy": "2021-12-15T22:00:40.376474Z",
     "iopub.status.idle": "2021-12-15T22:00:40.38115Z",
     "shell.execute_reply": "2021-12-15T22:00:40.380346Z",
     "shell.execute_reply.started": "2021-12-15T22:00:40.37694Z"
    }
   },
   "outputs": [],
   "source": [
    "ext =  { 'CustomerId': testdata['CustomerId'], 'Exited': target_pred}"
   ]
  },
  {
   "cell_type": "code",
   "execution_count": null,
   "metadata": {
    "execution": {
     "iopub.execute_input": "2021-12-15T22:00:40.717418Z",
     "iopub.status.busy": "2021-12-15T22:00:40.71662Z",
     "iopub.status.idle": "2021-12-15T22:00:40.726893Z",
     "shell.execute_reply": "2021-12-15T22:00:40.726236Z",
     "shell.execute_reply.started": "2021-12-15T22:00:40.717376Z"
    }
   },
   "outputs": [],
   "source": [
    "solution = pd.DataFrame(ext)\n",
    "solution.head()"
   ]
  },
  {
   "cell_type": "code",
   "execution_count": null,
   "metadata": {
    "execution": {
     "iopub.execute_input": "2021-12-15T22:00:41.288444Z",
     "iopub.status.busy": "2021-12-15T22:00:41.287806Z",
     "iopub.status.idle": "2021-12-15T22:00:41.298624Z",
     "shell.execute_reply": "2021-12-15T22:00:41.297811Z",
     "shell.execute_reply.started": "2021-12-15T22:00:41.288411Z"
    }
   },
   "outputs": [],
   "source": [
    "solution.to_csv('solution19.csv',index = False)"
   ]
  },
  {
   "cell_type": "code",
   "execution_count": null,
   "metadata": {},
   "outputs": [],
   "source": []
  }
 ],
 "metadata": {
  "kernelspec": {
   "display_name": "Python 3",
   "language": "python",
   "name": "python3"
  },
  "language_info": {
   "codemirror_mode": {
    "name": "ipython",
    "version": 3
   },
   "file_extension": ".py",
   "mimetype": "text/x-python",
   "name": "python",
   "nbconvert_exporter": "python",
   "pygments_lexer": "ipython3",
   "version": "3.7.6"
  }
 },
 "nbformat": 4,
 "nbformat_minor": 4
}
